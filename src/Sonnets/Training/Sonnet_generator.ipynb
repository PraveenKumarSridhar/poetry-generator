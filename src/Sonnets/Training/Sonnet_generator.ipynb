{
  "nbformat": 4,
  "nbformat_minor": 0,
  "metadata": {
    "orig_nbformat": 2,
    "kernelspec": {
      "name": "python3",
      "display_name": "Python 3"
    },
    "colab": {
      "name": "Sonnet_generator.ipynb",
      "provenance": []
    },
    "accelerator": "GPU"
  },
  "cells": [
    {
      "cell_type": "markdown",
      "metadata": {
        "id": "U-EWyvS3qUjc"
      },
      "source": [
        "## Can we write a Sonnet like its the middle ages?"
      ]
    },
    {
      "cell_type": "markdown",
      "metadata": {
        "id": "s4nPKXnoqUjd"
      },
      "source": [
        "![sonnet](https://github.com/PraveenKumarSridhar/poetry-generator/blob/develop/src/Sonnets/Training/Sonnet_art.jpg?raw=1)"
      ]
    },
    {
      "cell_type": "code",
      "metadata": {
        "id": "uLZ53StPqj2B"
      },
      "source": [
        "!pip install tensorflow==2.1.0"
      ],
      "execution_count": null,
      "outputs": []
    },
    {
      "cell_type": "markdown",
      "metadata": {
        "id": "ourZVE1yqUje"
      },
      "source": [
        "### 1.0 Loading the data\n",
        "<hr/>\n",
        "Let's start with loading the actual data and seeing a small sample of it, say the first 300 characters."
      ]
    },
    {
      "cell_type": "code",
      "metadata": {
        "id": "_146r3bjqUje",
        "outputId": "92bee7ce-1cfd-4253-e285-33bdf4ea14c9",
        "colab": {
          "base_uri": "https://localhost:8080/",
          "height": 69
        }
      },
      "source": [
        "data = open('/content/sonnets.txt').read()\n",
        "data[0:300]"
      ],
      "execution_count": 61,
      "outputs": [
        {
          "output_type": "execute_result",
          "data": {
            "application/vnd.google.colaboratory.intrinsic+json": {
              "type": "string"
            },
            "text/plain": [
              "\"FROM fairest creatures we desire increase,\\nThat thereby beauty's rose might never die,\\nBut as the riper should by time decease,\\nHis tender heir might bear his memory:\\nBut thou, contracted to thine own bright eyes,\\nFeed'st thy light'st flame with self-substantial fuel,\\nMaking a famine where abundance\""
            ]
          },
          "metadata": {
            "tags": []
          },
          "execution_count": 61
        }
      ]
    },
    {
      "cell_type": "markdown",
      "metadata": {
        "id": "B7-O_D8TqUji"
      },
      "source": [
        "### 2.0 Load the packages\n",
        "<hr/>\n",
        "Remeber to check the requirements file for packages used."
      ]
    },
    {
      "cell_type": "code",
      "metadata": {
        "id": "1Q3n_ZSvqUjj"
      },
      "source": [
        "from tensorflow.keras.preprocessing.sequence import pad_sequences\n",
        "from tensorflow.keras.layers import Embedding, LSTM, Dense, Dropout, Bidirectional\n",
        "from tensorflow.keras.preprocessing.text import Tokenizer\n",
        "from tensorflow.keras.models import Sequential\n",
        "from tensorflow.keras.optimizers import Adam\n",
        "from tensorflow.keras import regularizers \n",
        "import tensorflow.keras.utils as ku \n",
        "import numpy as np "
      ],
      "execution_count": 3,
      "outputs": []
    },
    {
      "cell_type": "markdown",
      "metadata": {
        "id": "uawVxMMSqUjl"
      },
      "source": [
        "Checking the tensorflow version"
      ]
    },
    {
      "cell_type": "code",
      "metadata": {
        "tags": [],
        "id": "HGCSz3IOqUjm",
        "outputId": "afdd9301-9fe5-4f14-d623-f90806e3b4b5",
        "colab": {
          "base_uri": "https://localhost:8080/",
          "height": 34
        }
      },
      "source": [
        "import tensorflow as tf\n",
        "print(tf.__version__)"
      ],
      "execution_count": 4,
      "outputs": [
        {
          "output_type": "stream",
          "text": [
            "2.1.0\n"
          ],
          "name": "stdout"
        }
      ]
    },
    {
      "cell_type": "markdown",
      "metadata": {
        "id": "LzTCJqrMqUjo"
      },
      "source": [
        "### 3.0 Tokenizing the training data\n",
        "<hr/>"
      ]
    },
    {
      "cell_type": "code",
      "metadata": {
        "tags": [],
        "id": "KZj8_ZcwqUjp",
        "outputId": "013f2118-f539-4b35-e77e-3b40c8f29480",
        "colab": {
          "base_uri": "https://localhost:8080/",
          "height": 34
        }
      },
      "source": [
        "tokenizer = Tokenizer()\n",
        "corpus = data.lower().split(\"\\n\")\n",
        "tokenizer.fit_on_texts(corpus)\n",
        "total_words = len(tokenizer.word_index) + 1\n",
        "print('Total number of words in corpus:',total_words)"
      ],
      "execution_count": 62,
      "outputs": [
        {
          "output_type": "stream",
          "text": [
            "Total number of words in corpus: 3211\n"
          ],
          "name": "stdout"
        }
      ]
    },
    {
      "cell_type": "markdown",
      "metadata": {
        "id": "KgXd0QLAqUjs"
      },
      "source": [
        "### 4.0 Preparing the data for training\n",
        "<hr/>\n",
        "This is the most important part of this entire script and can be broadly split into 5 steps. So let's get into it shall we,\n",
        "\n",
        "For each line in the txt file (training data):\n",
        " #### 4.1) Converting text to sequences.\n",
        "\n",
        "   You can do that using the following:\n",
        "\n",
        "    tokenizer.texts_to_sequences([line])\n",
        "    \n",
        "   Once you convert the text to sequence the output of it would look some thing like the following:\n",
        "\n",
        "    [34, 417, 877, 166, 213, 517]\n",
        " \n",
        " #### 4.2) Creating the N_gram sequences.\n",
        "   Now to create N-gram sequences that would look like \n",
        "\n",
        "    [34,417]\n",
        "    [34,417,877] \n",
        "    [34,417,877,166]\n",
        "    [34,417,877,166,213]\n",
        "    [34,417,877,166,213,517]\n",
        "\n",
        " #### 4.3) Finding the max sequence length and the padding the rest.\n",
        "  \n",
        "   The first thing to do here is to find the larges sequence length. After that, you are going to do pre padding using:\n",
        "\n",
        "    pad_sequences(input_sequences, maxlen=max_sequence_len, padding='pre')\n",
        "\n",
        "   Once you are done it would look something like this:\n",
        "\n",
        "    [0,0,0,0,34,417]\n",
        "    [0,0,0,34,417,877] \n",
        "    [0,0,34,417,877,166]\n",
        "    [0,34,417,877,166,213]\n",
        "    [34,417,877,166,213,517]\n",
        "\n",
        " #### 4.4) Creating the predictors and the labels.\n",
        "\n",
        "   This is where the most interesting part comes in, we are going to consider the last element in the N_gram sequence arrays we got above as labes and the rest of the array as the predictors:\n",
        "    \n",
        "    PREDICTORS                      LABLES\n",
        "    [0,0,0,0,34]                     417\n",
        "    [0,0,0,34,417]                   877\n",
        "    [0,0,34,417,877]                 166\n",
        "    [0,34,417,877,166]               213\n",
        "    [34,417,877,166,213]             517\n",
        "\n",
        "The code for all of the above steps are concatenated together in the next code block:\n"
      ]
    },
    {
      "cell_type": "code",
      "metadata": {
        "tags": [],
        "id": "Bic7YKtbqUjs"
      },
      "source": [
        "# create input sequences using list of tokens\n",
        "input_sequences = []\n",
        "for line in corpus:\n",
        "\ttoken_list = tokenizer.texts_to_sequences([line])[0]\n",
        "\tfor i in range(1, len(token_list)):\n",
        "\t\tn_gram_sequence = token_list[:i+1]\n",
        "\t\tinput_sequences.append(n_gram_sequence)\n",
        "\n",
        "# pad sequences \n",
        "max_sequence_len = max([len(x) for x in input_sequences])\n",
        "input_sequences = np.array(pad_sequences(input_sequences, maxlen=max_sequence_len, padding='pre'))\n",
        "\n",
        "# create predictors and label\n",
        "predictors, label = input_sequences[:,:-1],input_sequences[:,-1]\n",
        "\n",
        "label = ku.to_categorical(label, num_classes=total_words)"
      ],
      "execution_count": 6,
      "outputs": []
    },
    {
      "cell_type": "markdown",
      "metadata": {
        "id": "c2tkadeJqUjv"
      },
      "source": [
        "#### 5.0 Defining the model\n",
        "<hr/>\n",
        "This is where we are going to define the models architechure."
      ]
    },
    {
      "cell_type": "code",
      "metadata": {
        "id": "juhW5hyoqg0s",
        "outputId": "e865d1d6-887d-4905-ed9c-a5c65c39a79c",
        "colab": {
          "base_uri": "https://localhost:8080/",
          "height": 370
        }
      },
      "source": [
        "# Defining the model.\n",
        "model = Sequential()\n",
        "\n",
        "model.add(Embedding(total_words,100,input_length=max_sequence_len-1))\n",
        "model.add(Bidirectional(LSTM(150,return_sequences=True)))\n",
        "model.add(Dropout(0.18))\n",
        "model.add(Bidirectional(LSTM(100)))\n",
        "model.add(Dense(total_words/2,activation='relu',kernel_regularizer=regularizers.l2(0.01)))\n",
        "model.add(Dense(total_words,activation='softmax'))\n",
        "model.compile(loss='categorical_crossentropy',optimizer = 'adam',metrics = ['accuracy'])\n",
        "print(model.summary())"
      ],
      "execution_count": 63,
      "outputs": [
        {
          "output_type": "stream",
          "text": [
            "Model: \"sequential_20\"\n",
            "_________________________________________________________________\n",
            "Layer (type)                 Output Shape              Param #   \n",
            "=================================================================\n",
            "embedding_20 (Embedding)     (None, 10, 100)           321100    \n",
            "_________________________________________________________________\n",
            "bidirectional_41 (Bidirectio (None, 10, 300)           301200    \n",
            "_________________________________________________________________\n",
            "dropout_21 (Dropout)         (None, 10, 300)           0         \n",
            "_________________________________________________________________\n",
            "bidirectional_42 (Bidirectio (None, 200)               320800    \n",
            "_________________________________________________________________\n",
            "dense_48 (Dense)             (None, 1605)              322605    \n",
            "_________________________________________________________________\n",
            "dense_49 (Dense)             (None, 3211)              5156866   \n",
            "=================================================================\n",
            "Total params: 6,422,571\n",
            "Trainable params: 6,422,571\n",
            "Non-trainable params: 0\n",
            "_________________________________________________________________\n",
            "None\n"
          ],
          "name": "stdout"
        }
      ]
    },
    {
      "cell_type": "markdown",
      "metadata": {
        "id": "O2-J_JWyy75H"
      },
      "source": [
        "#### 6.0 Training the model\n",
        "<hr/>\n",
        "Now to actually start training the model."
      ]
    },
    {
      "cell_type": "code",
      "metadata": {
        "id": "gyzrotGNrbPW",
        "outputId": "e92c0e79-3404-416b-d466-068135abbf8e",
        "colab": {
          "base_uri": "https://localhost:8080/",
          "height": 1000
        }
      },
      "source": [
        " history = model.fit(predictors, label, epochs=100, verbose=1)"
      ],
      "execution_count": 64,
      "outputs": [
        {
          "output_type": "stream",
          "text": [
            "Train on 15462 samples\n",
            "Epoch 1/100\n",
            "15462/15462 [==============================] - 10s 651us/sample - loss: 6.9769 - accuracy: 0.0207\n",
            "Epoch 2/100\n",
            "15462/15462 [==============================] - 7s 436us/sample - loss: 6.5108 - accuracy: 0.0221\n",
            "Epoch 3/100\n",
            "15462/15462 [==============================] - 7s 431us/sample - loss: 6.4179 - accuracy: 0.0223\n",
            "Epoch 4/100\n",
            "15462/15462 [==============================] - 7s 436us/sample - loss: 6.3036 - accuracy: 0.0302\n",
            "Epoch 5/100\n",
            "15462/15462 [==============================] - 7s 436us/sample - loss: 6.2009 - accuracy: 0.0343\n",
            "Epoch 6/100\n",
            "15462/15462 [==============================] - 7s 439us/sample - loss: 6.1077 - accuracy: 0.0397\n",
            "Epoch 7/100\n",
            "15462/15462 [==============================] - 7s 438us/sample - loss: 6.0155 - accuracy: 0.0417\n",
            "Epoch 8/100\n",
            "15462/15462 [==============================] - 7s 438us/sample - loss: 5.9186 - accuracy: 0.0453\n",
            "Epoch 9/100\n",
            "15462/15462 [==============================] - 7s 435us/sample - loss: 5.8107 - accuracy: 0.0486\n",
            "Epoch 10/100\n",
            "15462/15462 [==============================] - 7s 438us/sample - loss: 5.6868 - accuracy: 0.0561\n",
            "Epoch 11/100\n",
            "15462/15462 [==============================] - 7s 439us/sample - loss: 5.5678 - accuracy: 0.0629\n",
            "Epoch 12/100\n",
            "15462/15462 [==============================] - 7s 446us/sample - loss: 5.4539 - accuracy: 0.0712\n",
            "Epoch 13/100\n",
            "15462/15462 [==============================] - 7s 439us/sample - loss: 5.3411 - accuracy: 0.0792\n",
            "Epoch 14/100\n",
            "15462/15462 [==============================] - 7s 438us/sample - loss: 5.2365 - accuracy: 0.0851\n",
            "Epoch 15/100\n",
            "15462/15462 [==============================] - 7s 439us/sample - loss: 5.1263 - accuracy: 0.0960\n",
            "Epoch 16/100\n",
            "15462/15462 [==============================] - 7s 439us/sample - loss: 5.0197 - accuracy: 0.1041\n",
            "Epoch 17/100\n",
            "15462/15462 [==============================] - 7s 440us/sample - loss: 4.9127 - accuracy: 0.1114\n",
            "Epoch 18/100\n",
            "15462/15462 [==============================] - 7s 439us/sample - loss: 4.7999 - accuracy: 0.1217\n",
            "Epoch 19/100\n",
            "15462/15462 [==============================] - 7s 455us/sample - loss: 4.6981 - accuracy: 0.1288\n",
            "Epoch 20/100\n",
            "15462/15462 [==============================] - 7s 464us/sample - loss: 4.5855 - accuracy: 0.1425\n",
            "Epoch 21/100\n",
            "15462/15462 [==============================] - 7s 443us/sample - loss: 4.4710 - accuracy: 0.1566\n",
            "Epoch 22/100\n",
            "15462/15462 [==============================] - 7s 438us/sample - loss: 4.3654 - accuracy: 0.1639\n",
            "Epoch 23/100\n",
            "15462/15462 [==============================] - 7s 441us/sample - loss: 4.2553 - accuracy: 0.1791\n",
            "Epoch 24/100\n",
            "15462/15462 [==============================] - 7s 441us/sample - loss: 4.1392 - accuracy: 0.1917\n",
            "Epoch 25/100\n",
            "15462/15462 [==============================] - 7s 441us/sample - loss: 4.0231 - accuracy: 0.2064\n",
            "Epoch 26/100\n",
            "15462/15462 [==============================] - 7s 443us/sample - loss: 3.9243 - accuracy: 0.2225\n",
            "Epoch 27/100\n",
            "15462/15462 [==============================] - 7s 443us/sample - loss: 3.8107 - accuracy: 0.2385\n",
            "Epoch 28/100\n",
            "15462/15462 [==============================] - 7s 437us/sample - loss: 3.6984 - accuracy: 0.2592\n",
            "Epoch 29/100\n",
            "15462/15462 [==============================] - 7s 436us/sample - loss: 3.5946 - accuracy: 0.2811\n",
            "Epoch 30/100\n",
            "15462/15462 [==============================] - 7s 441us/sample - loss: 3.4973 - accuracy: 0.3000\n",
            "Epoch 31/100\n",
            "15462/15462 [==============================] - 7s 438us/sample - loss: 3.3997 - accuracy: 0.3273\n",
            "Epoch 32/100\n",
            "15462/15462 [==============================] - 7s 435us/sample - loss: 3.2938 - accuracy: 0.3445\n",
            "Epoch 33/100\n",
            "15462/15462 [==============================] - 7s 440us/sample - loss: 3.2023 - accuracy: 0.3646\n",
            "Epoch 34/100\n",
            "15462/15462 [==============================] - 7s 439us/sample - loss: 3.1191 - accuracy: 0.3869\n",
            "Epoch 35/100\n",
            "15462/15462 [==============================] - 7s 448us/sample - loss: 3.0247 - accuracy: 0.4084\n",
            "Epoch 36/100\n",
            "15462/15462 [==============================] - 7s 439us/sample - loss: 2.9370 - accuracy: 0.4299\n",
            "Epoch 37/100\n",
            "15462/15462 [==============================] - 7s 448us/sample - loss: 2.8624 - accuracy: 0.4468\n",
            "Epoch 38/100\n",
            "15462/15462 [==============================] - 7s 438us/sample - loss: 2.7921 - accuracy: 0.4656\n",
            "Epoch 39/100\n",
            "15462/15462 [==============================] - 7s 441us/sample - loss: 2.7051 - accuracy: 0.4854\n",
            "Epoch 40/100\n",
            "15462/15462 [==============================] - 7s 438us/sample - loss: 2.6288 - accuracy: 0.4979\n",
            "Epoch 41/100\n",
            "15462/15462 [==============================] - 7s 437us/sample - loss: 2.5581 - accuracy: 0.5175\n",
            "Epoch 42/100\n",
            "15462/15462 [==============================] - 7s 439us/sample - loss: 2.4882 - accuracy: 0.5315\n",
            "Epoch 43/100\n",
            "15462/15462 [==============================] - 7s 440us/sample - loss: 2.4309 - accuracy: 0.5462\n",
            "Epoch 44/100\n",
            "15462/15462 [==============================] - 7s 443us/sample - loss: 2.3741 - accuracy: 0.5575\n",
            "Epoch 45/100\n",
            "15462/15462 [==============================] - 7s 442us/sample - loss: 2.3079 - accuracy: 0.5730\n",
            "Epoch 46/100\n",
            "15462/15462 [==============================] - 7s 441us/sample - loss: 2.2432 - accuracy: 0.5915\n",
            "Epoch 47/100\n",
            "15462/15462 [==============================] - 7s 441us/sample - loss: 2.1837 - accuracy: 0.6024\n",
            "Epoch 48/100\n",
            "15462/15462 [==============================] - 7s 439us/sample - loss: 2.1460 - accuracy: 0.6095\n",
            "Epoch 49/100\n",
            "15462/15462 [==============================] - 7s 439us/sample - loss: 2.0811 - accuracy: 0.6301\n",
            "Epoch 50/100\n",
            "15462/15462 [==============================] - 7s 437us/sample - loss: 2.0347 - accuracy: 0.6374\n",
            "Epoch 51/100\n",
            "15462/15462 [==============================] - 7s 438us/sample - loss: 2.0011 - accuracy: 0.6438\n",
            "Epoch 52/100\n",
            "15462/15462 [==============================] - 7s 443us/sample - loss: 1.9461 - accuracy: 0.6565\n",
            "Epoch 53/100\n",
            "15462/15462 [==============================] - 7s 442us/sample - loss: 1.8955 - accuracy: 0.6650\n",
            "Epoch 54/100\n",
            "15462/15462 [==============================] - 7s 437us/sample - loss: 1.8564 - accuracy: 0.6762\n",
            "Epoch 55/100\n",
            "15462/15462 [==============================] - 7s 439us/sample - loss: 1.8081 - accuracy: 0.6881\n",
            "Epoch 56/100\n",
            "15462/15462 [==============================] - 7s 439us/sample - loss: 1.7732 - accuracy: 0.6975\n",
            "Epoch 57/100\n",
            "15462/15462 [==============================] - 7s 444us/sample - loss: 1.7629 - accuracy: 0.6916\n",
            "Epoch 58/100\n",
            "15462/15462 [==============================] - 7s 445us/sample - loss: 1.7033 - accuracy: 0.7086\n",
            "Epoch 59/100\n",
            "15462/15462 [==============================] - 7s 443us/sample - loss: 1.6756 - accuracy: 0.7127\n",
            "Epoch 60/100\n",
            "15462/15462 [==============================] - 7s 443us/sample - loss: 1.6413 - accuracy: 0.7201\n",
            "Epoch 61/100\n",
            "15462/15462 [==============================] - 7s 440us/sample - loss: 1.6078 - accuracy: 0.7295\n",
            "Epoch 62/100\n",
            "15462/15462 [==============================] - 7s 447us/sample - loss: 1.5831 - accuracy: 0.7319\n",
            "Epoch 63/100\n",
            "15462/15462 [==============================] - 7s 445us/sample - loss: 1.5640 - accuracy: 0.7347\n",
            "Epoch 64/100\n",
            "15462/15462 [==============================] - 7s 443us/sample - loss: 1.5325 - accuracy: 0.7429\n",
            "Epoch 65/100\n",
            "15462/15462 [==============================] - 7s 467us/sample - loss: 1.4978 - accuracy: 0.7475\n",
            "Epoch 66/100\n",
            "15462/15462 [==============================] - 7s 454us/sample - loss: 1.4713 - accuracy: 0.7495\n",
            "Epoch 67/100\n",
            "15462/15462 [==============================] - 7s 443us/sample - loss: 1.4483 - accuracy: 0.7586\n",
            "Epoch 68/100\n",
            "15462/15462 [==============================] - 7s 439us/sample - loss: 1.4316 - accuracy: 0.7600\n",
            "Epoch 69/100\n",
            "15462/15462 [==============================] - 7s 440us/sample - loss: 1.4090 - accuracy: 0.7654\n",
            "Epoch 70/100\n",
            "15462/15462 [==============================] - 7s 446us/sample - loss: 1.3838 - accuracy: 0.7694\n",
            "Epoch 71/100\n",
            "15462/15462 [==============================] - 7s 445us/sample - loss: 1.3904 - accuracy: 0.7640\n",
            "Epoch 72/100\n",
            "15462/15462 [==============================] - 7s 441us/sample - loss: 1.3733 - accuracy: 0.7676\n",
            "Epoch 73/100\n",
            "15462/15462 [==============================] - 7s 442us/sample - loss: 1.3185 - accuracy: 0.7825\n",
            "Epoch 74/100\n",
            "15462/15462 [==============================] - 7s 443us/sample - loss: 1.3104 - accuracy: 0.7802\n",
            "Epoch 75/100\n",
            "15462/15462 [==============================] - 7s 441us/sample - loss: 1.2949 - accuracy: 0.7839\n",
            "Epoch 76/100\n",
            "15462/15462 [==============================] - 7s 442us/sample - loss: 1.2968 - accuracy: 0.7830\n",
            "Epoch 77/100\n",
            "15462/15462 [==============================] - 7s 442us/sample - loss: 1.2628 - accuracy: 0.7896\n",
            "Epoch 78/100\n",
            "15462/15462 [==============================] - 7s 442us/sample - loss: 1.2602 - accuracy: 0.7886\n",
            "Epoch 79/100\n",
            "15462/15462 [==============================] - 7s 443us/sample - loss: 1.2391 - accuracy: 0.7923\n",
            "Epoch 80/100\n",
            "15462/15462 [==============================] - 7s 450us/sample - loss: 1.2239 - accuracy: 0.7960\n",
            "Epoch 81/100\n",
            "15462/15462 [==============================] - 7s 445us/sample - loss: 1.2029 - accuracy: 0.7980\n",
            "Epoch 82/100\n",
            "15462/15462 [==============================] - 7s 453us/sample - loss: 1.1930 - accuracy: 0.8003\n",
            "Epoch 83/100\n",
            "15462/15462 [==============================] - 7s 448us/sample - loss: 1.1801 - accuracy: 0.8017\n",
            "Epoch 84/100\n",
            "15462/15462 [==============================] - 7s 440us/sample - loss: 1.1715 - accuracy: 0.8014\n",
            "Epoch 85/100\n",
            "15462/15462 [==============================] - 7s 442us/sample - loss: 1.1675 - accuracy: 0.8017\n",
            "Epoch 86/100\n",
            "15462/15462 [==============================] - 7s 445us/sample - loss: 1.1451 - accuracy: 0.8073\n",
            "Epoch 87/100\n",
            "15462/15462 [==============================] - 7s 443us/sample - loss: 1.1384 - accuracy: 0.8080\n",
            "Epoch 88/100\n",
            "15462/15462 [==============================] - 7s 445us/sample - loss: 1.1247 - accuracy: 0.8106\n",
            "Epoch 89/100\n",
            "15462/15462 [==============================] - 7s 441us/sample - loss: 1.1185 - accuracy: 0.8101\n",
            "Epoch 90/100\n",
            "15462/15462 [==============================] - 7s 440us/sample - loss: 1.1030 - accuracy: 0.8142\n",
            "Epoch 91/100\n",
            "15462/15462 [==============================] - 7s 439us/sample - loss: 1.0972 - accuracy: 0.8117\n",
            "Epoch 92/100\n",
            "15462/15462 [==============================] - 7s 445us/sample - loss: 1.0993 - accuracy: 0.8118\n",
            "Epoch 93/100\n",
            "15462/15462 [==============================] - 7s 440us/sample - loss: 1.0915 - accuracy: 0.8130\n",
            "Epoch 94/100\n",
            "15462/15462 [==============================] - 7s 448us/sample - loss: 1.0894 - accuracy: 0.8113\n",
            "Epoch 95/100\n",
            "15462/15462 [==============================] - 7s 445us/sample - loss: 1.0749 - accuracy: 0.8152\n",
            "Epoch 96/100\n",
            "15462/15462 [==============================] - 7s 444us/sample - loss: 1.0442 - accuracy: 0.8210\n",
            "Epoch 97/100\n",
            "15462/15462 [==============================] - 7s 442us/sample - loss: 1.0414 - accuracy: 0.8228\n",
            "Epoch 98/100\n",
            "15462/15462 [==============================] - 7s 444us/sample - loss: 1.0313 - accuracy: 0.8215\n",
            "Epoch 99/100\n",
            "15462/15462 [==============================] - 7s 444us/sample - loss: 1.0384 - accuracy: 0.8206\n",
            "Epoch 100/100\n",
            "15462/15462 [==============================] - 7s 445us/sample - loss: 1.0339 - accuracy: 0.8202\n"
          ],
          "name": "stdout"
        }
      ]
    },
    {
      "cell_type": "markdown",
      "metadata": {
        "id": "I9ofmb_EyckC"
      },
      "source": [
        "#### 7.0 Ploting the performance of the model.\n",
        "<hr/>\n",
        "\n",
        "Here we are going to plot 2 graphs ***accuracy vs epochs*** and ***loss vs epochs*** ."
      ]
    },
    {
      "cell_type": "code",
      "metadata": {
        "id": "iwJNFGlMresc",
        "outputId": "70dc71e2-418e-4de0-835d-e4f50822fe35",
        "colab": {
          "base_uri": "https://localhost:8080/",
          "height": 545
        }
      },
      "source": [
        "import matplotlib.pyplot as plt\n",
        "acc = history.history['accuracy']\n",
        "loss = history.history['loss']\n",
        "\n",
        "epochs = range(len(acc))\n",
        "\n",
        "plt.plot(epochs, acc, 'b', label='Training accuracy')\n",
        "plt.title('Training accuracy')\n",
        "\n",
        "plt.figure()\n",
        "plt.savefig('/content/accuracy_plot.png')\n",
        "\n",
        "plt.plot(epochs, loss, 'b', label='Training Loss')\n",
        "plt.title('Training loss')\n",
        "plt.legend()\n",
        "plt.savefig('/content/loss_plot.png')\n",
        "\n",
        "plt.show()"
      ],
      "execution_count": 65,
      "outputs": [
        {
          "output_type": "display_data",
          "data": {
            "image/png": "[encoded data removed]",
            "text/plain": [
              "<Figure size 432x288 with 1 Axes>"
            ]
          },
          "metadata": {
            "tags": [],
            "needs_background": "light"
          }
        },
        {
          "output_type": "display_data",
          "data": {
            "image/png": "[encoded data removed]",
            "text/plain": [
              "<Figure size 432x288 with 1 Axes>"
            ]
          },
          "metadata": {
            "tags": [],
            "needs_background": "light"
          }
        }
      ]
    },
    {
      "cell_type": "markdown",
      "metadata": {
        "id": "njl3rjpt1P7x"
      },
      "source": [
        "#### 7.0 Testing the model\n",
        "<hr/>\n",
        "To test the model we have to give 2 inputs:\n",
        "\n",
        "1. Input text or seed text so the network can start predicting. and,\n",
        "2. The number of words you want thenetwork to predict. "
      ]
    },
    {
      "cell_type": "markdown",
      "metadata": {
        "id": "WlIjBgMQ1zIe"
      },
      "source": [
        "#### **NOTE : There is one major caveat to this, as the network predicts the subsequent words its loss will multiply with each new word it predicts.**"
      ]
    },
    {
      "cell_type": "code",
      "metadata": {
        "id": "3imoT23H1wv5",
        "outputId": "b8762f60-31c8-435c-b8d5-7bee6e743d5e",
        "colab": {
          "base_uri": "https://localhost:8080/",
          "height": 54
        }
      },
      "source": [
        "seed_text = \"O Ray of sunshine\"\n",
        "next_words = 30\n",
        "  \n",
        "for _ in range(next_words):\n",
        "\ttoken_list = tokenizer.texts_to_sequences([seed_text])[0]\n",
        "\ttoken_list = pad_sequences([token_list], maxlen=max_sequence_len-1, padding='pre')\n",
        "\tpredicted = model.predict_classes(token_list, verbose=0)\n",
        "\toutput_word = \"\"\n",
        "\tfor word, index in tokenizer.word_index.items():\n",
        "\t\tif index == predicted:\n",
        "\t\t\toutput_word = word\n",
        "\t\t\tbreak\n",
        "\tseed_text += \" \" + output_word\n",
        "print(seed_text)"
      ],
      "execution_count": 67,
      "outputs": [
        {
          "output_type": "stream",
          "text": [
            "O Ray of sunshine this sin what in thee array grows so lie new die dearer their strong hide prove thee seen their chest be gay commence account it cheeks worth new one strong\n"
          ],
          "name": "stdout"
        }
      ]
    },
    {
      "cell_type": "markdown",
      "metadata": {
        "id": "elFhkO5k88-n"
      },
      "source": [
        "#### 8.0 Conclusion\n",
        "<hr/>\n",
        "This was done using word embeddings in the next notbook lets see how character level embedding measure up against this approach."
      ]
    }
  ]
}