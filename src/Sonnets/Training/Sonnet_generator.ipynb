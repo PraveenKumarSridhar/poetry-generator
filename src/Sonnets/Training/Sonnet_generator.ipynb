{
  "nbformat": 4,
  "nbformat_minor": 0,
  "metadata": {
    "orig_nbformat": 2,
    "kernelspec": {
      "name": "python3",
      "display_name": "Python 3"
    },
    "colab": {
      "name": "Sonnet_generator.ipynb",
      "provenance": []
    },
    "accelerator": "GPU"
  },
  "cells": [
    {
      "cell_type": "markdown",
      "metadata": {
        "id": "U-EWyvS3qUjc"
      },
      "source": [
        "## Can we write a Sonnet like its the middle ages?"
      ]
    },
    {
      "cell_type": "markdown",
      "metadata": {
        "id": "s4nPKXnoqUjd"
      },
      "source": [
        "![sonnet](https://github.com/PraveenKumarSridhar/poetry-generator/blob/develop/src/Sonnets/Training/Sonnet_art.jpg?raw=1)"
      ]
    },
    {
      "cell_type": "code",
      "metadata": {
        "id": "uLZ53StPqj2B"
      },
      "source": [
        "!pip install tensorflow==2.1.0"
      ],
      "execution_count": null,
      "outputs": []
    },
    {
      "cell_type": "markdown",
      "metadata": {
        "id": "ourZVE1yqUje"
      },
      "source": [
        "### 1.0 Loading the data\n",
        "<hr/>\n",
        "Let's start with loading the actual data and seeing a small sample of it, say the first 300 characters."
      ]
    },
    {
      "cell_type": "code",
      "metadata": {
        "id": "_146r3bjqUje",
        "outputId": "c2e06153-f644-49a9-ccee-e96c1f87a091",
        "colab": {
          "base_uri": "https://localhost:8080/",
          "height": 69
        }
      },
      "source": [
        "data = open('/content/sonnets.txt').read()\n",
        "data[0:300]"
      ],
      "execution_count": 2,
      "outputs": [
        {
          "output_type": "execute_result",
          "data": {
            "application/vnd.google.colaboratory.intrinsic+json": {
              "type": "string"
            },
            "text/plain": [
              "\"FROM fairest creatures we desire increase,\\nThat thereby beauty's rose might never die,\\nBut as the riper should by time decease,\\nHis tender heir might bear his memory:\\nBut thou, contracted to thine own bright eyes,\\nFeed'st thy light'st flame with self-substantial fuel,\\nMaking a famine where abundance\""
            ]
          },
          "metadata": {
            "tags": []
          },
          "execution_count": 2
        }
      ]
    },
    {
      "cell_type": "markdown",
      "metadata": {
        "id": "B7-O_D8TqUji"
      },
      "source": [
        "### 2.0 Load the packages\n",
        "<hr/>\n",
        "Remeber to check the requirements file for packages used."
      ]
    },
    {
      "cell_type": "code",
      "metadata": {
        "id": "1Q3n_ZSvqUjj"
      },
      "source": [
        "from tensorflow.keras.preprocessing.sequence import pad_sequences\n",
        "from tensorflow.keras.layers import Embedding, LSTM, Dense, Dropout, Bidirectional\n",
        "from tensorflow.keras.preprocessing.text import Tokenizer\n",
        "from tensorflow.keras.models import Sequential\n",
        "from tensorflow.keras.optimizers import Adam\n",
        "from tensorflow.keras import regularizers \n",
        "import tensorflow.keras.utils as ku \n",
        "import numpy as np "
      ],
      "execution_count": 3,
      "outputs": []
    },
    {
      "cell_type": "markdown",
      "metadata": {
        "id": "uawVxMMSqUjl"
      },
      "source": [
        "Checking the tensorflow version"
      ]
    },
    {
      "cell_type": "code",
      "metadata": {
        "tags": [],
        "id": "HGCSz3IOqUjm",
        "outputId": "afdd9301-9fe5-4f14-d623-f90806e3b4b5",
        "colab": {
          "base_uri": "https://localhost:8080/",
          "height": 34
        }
      },
      "source": [
        "import tensorflow as tf\n",
        "print(tf.__version__)"
      ],
      "execution_count": 4,
      "outputs": [
        {
          "output_type": "stream",
          "text": [
            "2.1.0\n"
          ],
          "name": "stdout"
        }
      ]
    },
    {
      "cell_type": "markdown",
      "metadata": {
        "id": "LzTCJqrMqUjo"
      },
      "source": [
        "### 3.0 Tokenizing the training data\n",
        "<hr/>"
      ]
    },
    {
      "cell_type": "code",
      "metadata": {
        "tags": [],
        "id": "KZj8_ZcwqUjp",
        "outputId": "68115f43-6837-4e23-8be1-8405202feaab",
        "colab": {
          "base_uri": "https://localhost:8080/",
          "height": 34
        }
      },
      "source": [
        "tokenizer = Tokenizer()\n",
        "corpus = data.lower().split(\"\\n\")\n",
        "tokenizer.fit_on_texts(corpus)\n",
        "total_words = len(tokenizer.word_index) + 1\n",
        "print('Total number of words in corpus:',total_words)"
      ],
      "execution_count": 5,
      "outputs": [
        {
          "output_type": "stream",
          "text": [
            "Total number of words in corpus: 3211\n"
          ],
          "name": "stdout"
        }
      ]
    },
    {
      "cell_type": "markdown",
      "metadata": {
        "id": "KgXd0QLAqUjs"
      },
      "source": [
        "### 4.0 Preparing the data for training\n",
        "<hr/>\n",
        "This is the most important part of this entire script and can be broadly split into 5 steps. So let's get into it shall we,\n",
        "\n",
        "For each line in the txt file (training data):\n",
        " #### 4.1) Converting text to sequences.\n",
        "\n",
        "   You can do that using the following:\n",
        "\n",
        "    tokenizer.texts_to_sequences([line])\n",
        "    \n",
        "   Once you convert the text to sequence the output of it would look some thing like the following:\n",
        "\n",
        "    [34, 417, 877, 166, 213, 517]\n",
        " \n",
        " #### 4.2) Creating the N_gram sequences.\n",
        "   Now to create N-gram sequences that would look like \n",
        "\n",
        "    [34,417]\n",
        "    [34,417,877] \n",
        "    [34,417,877,166]\n",
        "    [34,417,877,166,213]\n",
        "    [34,417,877,166,213,517]\n",
        "\n",
        " #### 4.3) Finding the max sequence length and the padding the rest.\n",
        "  \n",
        "   The first thing to do here is to find the larges sequence length. After that, you are going to do pre padding using:\n",
        "\n",
        "    pad_sequences(input_sequences, maxlen=max_sequence_len, padding='pre')\n",
        "\n",
        "   Once you are done it would look something like this:\n",
        "\n",
        "    [0,0,0,0,34,417]\n",
        "    [0,0,0,34,417,877] \n",
        "    [0,0,34,417,877,166]\n",
        "    [0,34,417,877,166,213]\n",
        "    [34,417,877,166,213,517]\n",
        "\n",
        " #### 4.4) Creating the predictors and the labels.\n",
        "\n",
        "   This is where the most interesting part comes in, we are going to consider the last element in the N_gram sequence arrays we got above as labes and the rest of the array as the predictors:\n",
        "    \n",
        "    PREDICTORS                      LABLES\n",
        "    [0,0,0,0,34]                     417\n",
        "    [0,0,0,34,417]                   877\n",
        "    [0,0,34,417,877]                 166\n",
        "    [0,34,417,877,166]               213\n",
        "    [34,417,877,166,213]             517\n",
        "\n",
        "The code for all of the above steps are concatenated together in the next code block:\n"
      ]
    },
    {
      "cell_type": "code",
      "metadata": {
        "tags": [],
        "id": "Bic7YKtbqUjs"
      },
      "source": [
        "# create input sequences using list of tokens\n",
        "input_sequences = []\n",
        "for line in corpus:\n",
        "\ttoken_list = tokenizer.texts_to_sequences([line])[0]\n",
        "\tfor i in range(1, len(token_list)):\n",
        "\t\tn_gram_sequence = token_list[:i+1]\n",
        "\t\tinput_sequences.append(n_gram_sequence)\n",
        "\n",
        "# pad sequences \n",
        "max_sequence_len = max([len(x) for x in input_sequences])\n",
        "input_sequences = np.array(pad_sequences(input_sequences, maxlen=max_sequence_len, padding='pre'))\n",
        "\n",
        "# create predictors and label\n",
        "predictors, label = input_sequences[:,:-1],input_sequences[:,-1]\n",
        "\n",
        "label = ku.to_categorical(label, num_classes=total_words)"
      ],
      "execution_count": 6,
      "outputs": []
    },
    {
      "cell_type": "markdown",
      "metadata": {
        "id": "c2tkadeJqUjv"
      },
      "source": [
        "#### 5.0 Defining the model\n",
        "<hr/>\n",
        "This is where we are going to define the models architechure."
      ]
    },
    {
      "cell_type": "code",
      "metadata": {
        "id": "juhW5hyoqg0s",
        "outputId": "4f4d872a-2ea1-4ace-c0e6-0a46e7a91e6e",
        "colab": {
          "base_uri": "https://localhost:8080/",
          "height": 370
        }
      },
      "source": [
        "# Defining the model.\n",
        "model = Sequential()\n",
        "\n",
        "model.add(Embedding(total_words,100,input_length=max_sequence_len-1))\n",
        "model.add(Bidirectional(LSTM(150,return_sequences=True)))\n",
        "model.add(Dropout(0.18))\n",
        "model.add(Bidirectional(LSTM(128)))\n",
        "model.add(Dense(total_words/2,activation='relu',kernel_regularizer=regularizers.l2(0.01)))\n",
        "model.add(Dense(total_words,activation='softmax'))\n",
        "model.compile(loss='categorical_crossentropy',optimizer = 'adam',metrics = ['accuracy'])\n",
        "print(model.summary())"
      ],
      "execution_count": 52,
      "outputs": [
        {
          "output_type": "stream",
          "text": [
            "Model: \"sequential_19\"\n",
            "_________________________________________________________________\n",
            "Layer (type)                 Output Shape              Param #   \n",
            "=================================================================\n",
            "embedding_19 (Embedding)     (None, 10, 100)           321100    \n",
            "_________________________________________________________________\n",
            "bidirectional_39 (Bidirectio (None, 10, 300)           301200    \n",
            "_________________________________________________________________\n",
            "dropout_20 (Dropout)         (None, 10, 300)           0         \n",
            "_________________________________________________________________\n",
            "bidirectional_40 (Bidirectio (None, 256)               439296    \n",
            "_________________________________________________________________\n",
            "dense_46 (Dense)             (None, 1605)              412485    \n",
            "_________________________________________________________________\n",
            "dense_47 (Dense)             (None, 3211)              5156866   \n",
            "=================================================================\n",
            "Total params: 6,630,947\n",
            "Trainable params: 6,630,947\n",
            "Non-trainable params: 0\n",
            "_________________________________________________________________\n",
            "None\n"
          ],
          "name": "stdout"
        }
      ]
    },
    {
      "cell_type": "markdown",
      "metadata": {
        "id": "O2-J_JWyy75H"
      },
      "source": [
        "#### 6.0 Training the model\n",
        "<hr/>\n",
        "Now to actually start training the model."
      ]
    },
    {
      "cell_type": "code",
      "metadata": {
        "id": "gyzrotGNrbPW",
        "outputId": "f94bcc36-a8c6-4991-dc72-2e394db9ecb5",
        "colab": {
          "base_uri": "https://localhost:8080/",
          "height": 1000
        }
      },
      "source": [
        " history = model.fit(predictors, label, epochs=150, verbose=1)"
      ],
      "execution_count": 50,
      "outputs": [
        {
          "output_type": "stream",
          "text": [
            "Train on 15462 samples\n",
            "Epoch 1/150\n",
            "15462/15462 [==============================] - 11s 700us/sample - loss: 6.9980 - accuracy: 0.0204\n",
            "Epoch 2/150\n",
            "15462/15462 [==============================] - 7s 439us/sample - loss: 6.5198 - accuracy: 0.0206\n",
            "Epoch 3/150\n",
            "15462/15462 [==============================] - 7s 438us/sample - loss: 6.4149 - accuracy: 0.0261\n",
            "Epoch 4/150\n",
            "15462/15462 [==============================] - 7s 439us/sample - loss: 6.2887 - accuracy: 0.0333\n",
            "Epoch 5/150\n",
            "15462/15462 [==============================] - 7s 438us/sample - loss: 6.1671 - accuracy: 0.0389\n",
            "Epoch 6/150\n",
            "15462/15462 [==============================] - 7s 445us/sample - loss: 6.0440 - accuracy: 0.0414\n",
            "Epoch 7/150\n",
            "15462/15462 [==============================] - 7s 456us/sample - loss: 5.9224 - accuracy: 0.0451\n",
            "Epoch 8/150\n",
            "15462/15462 [==============================] - 7s 439us/sample - loss: 5.8080 - accuracy: 0.0499\n",
            "Epoch 9/150\n",
            "15462/15462 [==============================] - 7s 438us/sample - loss: 5.6818 - accuracy: 0.0579\n",
            "Epoch 10/150\n",
            "15462/15462 [==============================] - 7s 443us/sample - loss: 5.5633 - accuracy: 0.0636\n",
            "Epoch 11/150\n",
            "15462/15462 [==============================] - 7s 436us/sample - loss: 5.4377 - accuracy: 0.0747\n",
            "Epoch 12/150\n",
            "15462/15462 [==============================] - 7s 443us/sample - loss: 5.3140 - accuracy: 0.0785\n",
            "Epoch 13/150\n",
            "15462/15462 [==============================] - 7s 456us/sample - loss: 5.1874 - accuracy: 0.0934\n",
            "Epoch 14/150\n",
            "15462/15462 [==============================] - 7s 473us/sample - loss: 5.0611 - accuracy: 0.1002\n",
            "Epoch 15/150\n",
            "15462/15462 [==============================] - 7s 438us/sample - loss: 4.9373 - accuracy: 0.1075\n",
            "Epoch 16/150\n",
            "15462/15462 [==============================] - 7s 439us/sample - loss: 4.8189 - accuracy: 0.1171\n",
            "Epoch 17/150\n",
            "15462/15462 [==============================] - 7s 435us/sample - loss: 4.6934 - accuracy: 0.1306\n",
            "Epoch 18/150\n",
            "15462/15462 [==============================] - 7s 435us/sample - loss: 4.5689 - accuracy: 0.1415\n",
            "Epoch 19/150\n",
            "15462/15462 [==============================] - 7s 438us/sample - loss: 4.4365 - accuracy: 0.1530\n",
            "Epoch 20/150\n",
            "15462/15462 [==============================] - 7s 437us/sample - loss: 4.3229 - accuracy: 0.1682\n",
            "Epoch 21/150\n",
            "15462/15462 [==============================] - 7s 434us/sample - loss: 4.1892 - accuracy: 0.1802\n",
            "Epoch 22/150\n",
            "15462/15462 [==============================] - 7s 436us/sample - loss: 4.0746 - accuracy: 0.1919\n",
            "Epoch 23/150\n",
            "15462/15462 [==============================] - 7s 439us/sample - loss: 3.9494 - accuracy: 0.2112\n",
            "Epoch 24/150\n",
            "15462/15462 [==============================] - 7s 439us/sample - loss: 3.8304 - accuracy: 0.2293\n",
            "Epoch 25/150\n",
            "15462/15462 [==============================] - 7s 439us/sample - loss: 3.7042 - accuracy: 0.2481\n",
            "Epoch 26/150\n",
            "15462/15462 [==============================] - 7s 437us/sample - loss: 3.5928 - accuracy: 0.2747\n",
            "Epoch 27/150\n",
            "15462/15462 [==============================] - 7s 440us/sample - loss: 3.4800 - accuracy: 0.3005\n",
            "Epoch 28/150\n",
            "15462/15462 [==============================] - 7s 437us/sample - loss: 3.3625 - accuracy: 0.3212\n",
            "Epoch 29/150\n",
            "15462/15462 [==============================] - 7s 435us/sample - loss: 3.2596 - accuracy: 0.3458\n",
            "Epoch 30/150\n",
            "15462/15462 [==============================] - 7s 438us/sample - loss: 3.1584 - accuracy: 0.3727\n",
            "Epoch 31/150\n",
            "15462/15462 [==============================] - 7s 435us/sample - loss: 3.0500 - accuracy: 0.3928\n",
            "Epoch 32/150\n",
            "15462/15462 [==============================] - 7s 435us/sample - loss: 2.9651 - accuracy: 0.4117\n",
            "Epoch 33/150\n",
            "15462/15462 [==============================] - 7s 432us/sample - loss: 2.8652 - accuracy: 0.4382\n",
            "Epoch 34/150\n",
            "15462/15462 [==============================] - 7s 437us/sample - loss: 2.7730 - accuracy: 0.4571\n",
            "Epoch 35/150\n",
            "15462/15462 [==============================] - 7s 434us/sample - loss: 2.6826 - accuracy: 0.4788\n",
            "Epoch 36/150\n",
            "15462/15462 [==============================] - 7s 438us/sample - loss: 2.5935 - accuracy: 0.5004\n",
            "Epoch 37/150\n",
            "15462/15462 [==============================] - 7s 443us/sample - loss: 2.5361 - accuracy: 0.5135\n",
            "Epoch 38/150\n",
            "15462/15462 [==============================] - 7s 437us/sample - loss: 2.4598 - accuracy: 0.5270\n",
            "Epoch 39/150\n",
            "15462/15462 [==============================] - 7s 447us/sample - loss: 2.3693 - accuracy: 0.5531\n",
            "Epoch 40/150\n",
            "15462/15462 [==============================] - 7s 442us/sample - loss: 2.3004 - accuracy: 0.5698\n",
            "Epoch 41/150\n",
            "15462/15462 [==============================] - 7s 441us/sample - loss: 2.2394 - accuracy: 0.5852\n",
            "Epoch 42/150\n",
            "15462/15462 [==============================] - 7s 438us/sample - loss: 2.1782 - accuracy: 0.6022\n",
            "Epoch 43/150\n",
            "15462/15462 [==============================] - 7s 439us/sample - loss: 2.1149 - accuracy: 0.6174\n",
            "Epoch 44/150\n",
            "15462/15462 [==============================] - 7s 435us/sample - loss: 2.0597 - accuracy: 0.6264\n",
            "Epoch 45/150\n",
            "15462/15462 [==============================] - 7s 440us/sample - loss: 2.0019 - accuracy: 0.6411\n",
            "Epoch 46/150\n",
            "15462/15462 [==============================] - 7s 439us/sample - loss: 1.9481 - accuracy: 0.6509\n",
            "Epoch 47/150\n",
            "15462/15462 [==============================] - 7s 438us/sample - loss: 1.8973 - accuracy: 0.6651\n",
            "Epoch 48/150\n",
            "15462/15462 [==============================] - 7s 441us/sample - loss: 1.8530 - accuracy: 0.6768\n",
            "Epoch 49/150\n",
            "15462/15462 [==============================] - 7s 438us/sample - loss: 1.8033 - accuracy: 0.6868\n",
            "Epoch 50/150\n",
            "15462/15462 [==============================] - 7s 438us/sample - loss: 1.7477 - accuracy: 0.7031\n",
            "Epoch 51/150\n",
            "15462/15462 [==============================] - 7s 437us/sample - loss: 1.7146 - accuracy: 0.7050\n",
            "Epoch 52/150\n",
            "15462/15462 [==============================] - 7s 436us/sample - loss: 1.6888 - accuracy: 0.7114\n",
            "Epoch 53/150\n",
            "15462/15462 [==============================] - 7s 438us/sample - loss: 1.6376 - accuracy: 0.7222\n",
            "Epoch 54/150\n",
            "15462/15462 [==============================] - 7s 440us/sample - loss: 1.5971 - accuracy: 0.7304\n",
            "Epoch 55/150\n",
            "15462/15462 [==============================] - 7s 440us/sample - loss: 1.5749 - accuracy: 0.7365\n",
            "Epoch 56/150\n",
            "15462/15462 [==============================] - 7s 439us/sample - loss: 1.5400 - accuracy: 0.7419\n",
            "Epoch 57/150\n",
            "15462/15462 [==============================] - 7s 439us/sample - loss: 1.5034 - accuracy: 0.7505\n",
            "Epoch 58/150\n",
            "15462/15462 [==============================] - 7s 444us/sample - loss: 1.4738 - accuracy: 0.7551\n",
            "Epoch 59/150\n",
            "15462/15462 [==============================] - 7s 466us/sample - loss: 1.4595 - accuracy: 0.7562\n",
            "Epoch 60/150\n",
            "15462/15462 [==============================] - 7s 472us/sample - loss: 1.4153 - accuracy: 0.7682\n",
            "Epoch 61/150\n",
            "15462/15462 [==============================] - 7s 440us/sample - loss: 1.4013 - accuracy: 0.7690\n",
            "Epoch 62/150\n",
            "15462/15462 [==============================] - 7s 441us/sample - loss: 1.3810 - accuracy: 0.7762\n",
            "Epoch 63/150\n",
            "15462/15462 [==============================] - 7s 442us/sample - loss: 1.3430 - accuracy: 0.7795\n",
            "Epoch 64/150\n",
            "15462/15462 [==============================] - 7s 440us/sample - loss: 1.3193 - accuracy: 0.7825\n",
            "Epoch 65/150\n",
            "15462/15462 [==============================] - 7s 439us/sample - loss: 1.3156 - accuracy: 0.7842\n",
            "Epoch 66/150\n",
            "15462/15462 [==============================] - 7s 438us/sample - loss: 1.2973 - accuracy: 0.7866\n",
            "Epoch 67/150\n",
            "15462/15462 [==============================] - 7s 445us/sample - loss: 1.2771 - accuracy: 0.7879\n",
            "Epoch 68/150\n",
            "15462/15462 [==============================] - 7s 441us/sample - loss: 1.2380 - accuracy: 0.7955\n",
            "Epoch 69/150\n",
            "15462/15462 [==============================] - 7s 444us/sample - loss: 1.2483 - accuracy: 0.7930\n",
            "Epoch 70/150\n",
            "15462/15462 [==============================] - 7s 440us/sample - loss: 1.2239 - accuracy: 0.7969\n",
            "Epoch 71/150\n",
            "15462/15462 [==============================] - 7s 447us/sample - loss: 1.2139 - accuracy: 0.7965\n",
            "Epoch 72/150\n",
            "15462/15462 [==============================] - 7s 452us/sample - loss: 1.1881 - accuracy: 0.8023\n",
            "Epoch 73/150\n",
            "15462/15462 [==============================] - 7s 446us/sample - loss: 1.1788 - accuracy: 0.8038\n",
            "Epoch 74/150\n",
            "15462/15462 [==============================] - 7s 447us/sample - loss: 1.1611 - accuracy: 0.8046\n",
            "Epoch 75/150\n",
            "15462/15462 [==============================] - 7s 441us/sample - loss: 1.1535 - accuracy: 0.8080\n",
            "Epoch 76/150\n",
            "15462/15462 [==============================] - 7s 445us/sample - loss: 1.1449 - accuracy: 0.8073\n",
            "Epoch 77/150\n",
            "15462/15462 [==============================] - 7s 444us/sample - loss: 1.1240 - accuracy: 0.8104\n",
            "Epoch 78/150\n",
            "15462/15462 [==============================] - 7s 447us/sample - loss: 1.1201 - accuracy: 0.8114\n",
            "Epoch 79/150\n",
            "15462/15462 [==============================] - 7s 443us/sample - loss: 1.1173 - accuracy: 0.8114\n",
            "Epoch 80/150\n",
            "15462/15462 [==============================] - 7s 445us/sample - loss: 1.0836 - accuracy: 0.8174\n",
            "Epoch 81/150\n",
            "15462/15462 [==============================] - 7s 442us/sample - loss: 1.0865 - accuracy: 0.8145\n",
            "Epoch 82/150\n",
            "15462/15462 [==============================] - 7s 443us/sample - loss: 1.0711 - accuracy: 0.8187\n",
            "Epoch 83/150\n",
            "15462/15462 [==============================] - 7s 445us/sample - loss: 1.0667 - accuracy: 0.8172\n",
            "Epoch 84/150\n",
            "15462/15462 [==============================] - 7s 458us/sample - loss: 1.0573 - accuracy: 0.8189\n",
            "Epoch 85/150\n",
            "15462/15462 [==============================] - 7s 444us/sample - loss: 1.0404 - accuracy: 0.8225\n",
            "Epoch 86/150\n",
            "15462/15462 [==============================] - 7s 445us/sample - loss: 1.0360 - accuracy: 0.8238\n",
            "Epoch 87/150\n",
            "15462/15462 [==============================] - 7s 443us/sample - loss: 1.0395 - accuracy: 0.8193\n",
            "Epoch 88/150\n",
            "15462/15462 [==============================] - 7s 441us/sample - loss: 1.0399 - accuracy: 0.8196\n",
            "Epoch 89/150\n",
            "15462/15462 [==============================] - 7s 442us/sample - loss: 1.0174 - accuracy: 0.8232\n",
            "Epoch 90/150\n",
            "15462/15462 [==============================] - 7s 443us/sample - loss: 1.0060 - accuracy: 0.8242\n",
            "Epoch 91/150\n",
            "15462/15462 [==============================] - 7s 443us/sample - loss: 0.9956 - accuracy: 0.8280\n",
            "Epoch 92/150\n",
            "15462/15462 [==============================] - 7s 443us/sample - loss: 1.0072 - accuracy: 0.8224\n",
            "Epoch 93/150\n",
            "15462/15462 [==============================] - 7s 448us/sample - loss: 1.0002 - accuracy: 0.8261\n",
            "Epoch 94/150\n",
            "15462/15462 [==============================] - 7s 446us/sample - loss: 0.9863 - accuracy: 0.8247\n",
            "Epoch 95/150\n",
            "15462/15462 [==============================] - 7s 444us/sample - loss: 0.9788 - accuracy: 0.8256\n",
            "Epoch 96/150\n",
            "15462/15462 [==============================] - 7s 447us/sample - loss: 0.9787 - accuracy: 0.8263\n",
            "Epoch 97/150\n",
            "15462/15462 [==============================] - 7s 445us/sample - loss: 0.9752 - accuracy: 0.8269\n",
            "Epoch 98/150\n",
            "15462/15462 [==============================] - 7s 445us/sample - loss: 0.9598 - accuracy: 0.8312\n",
            "Epoch 99/150\n",
            "15462/15462 [==============================] - 7s 444us/sample - loss: 0.9547 - accuracy: 0.8320\n",
            "Epoch 100/150\n",
            "15462/15462 [==============================] - 7s 445us/sample - loss: 0.9390 - accuracy: 0.8311\n",
            "Epoch 101/150\n",
            "15462/15462 [==============================] - 7s 444us/sample - loss: 0.9601 - accuracy: 0.8279\n",
            "Epoch 102/150\n",
            "15462/15462 [==============================] - 7s 447us/sample - loss: 0.9481 - accuracy: 0.8294\n",
            "Epoch 103/150\n",
            "15462/15462 [==============================] - 7s 446us/sample - loss: 0.9439 - accuracy: 0.8269\n",
            "Epoch 104/150\n",
            "15462/15462 [==============================] - 7s 461us/sample - loss: 0.9396 - accuracy: 0.8287\n",
            "Epoch 105/150\n",
            "15462/15462 [==============================] - 7s 471us/sample - loss: 0.9418 - accuracy: 0.8289\n",
            "Epoch 106/150\n",
            "15462/15462 [==============================] - 7s 451us/sample - loss: 0.9159 - accuracy: 0.8331\n",
            "Epoch 107/150\n",
            "15462/15462 [==============================] - 7s 449us/sample - loss: 0.9241 - accuracy: 0.8324\n",
            "Epoch 108/150\n",
            "15462/15462 [==============================] - 7s 444us/sample - loss: 0.9169 - accuracy: 0.8319\n",
            "Epoch 109/150\n",
            "15462/15462 [==============================] - 7s 444us/sample - loss: 0.9048 - accuracy: 0.8338\n",
            "Epoch 110/150\n",
            "15462/15462 [==============================] - 7s 447us/sample - loss: 0.9112 - accuracy: 0.8309\n",
            "Epoch 111/150\n",
            "15462/15462 [==============================] - 7s 447us/sample - loss: 0.8995 - accuracy: 0.8355\n",
            "Epoch 112/150\n",
            "15462/15462 [==============================] - 7s 449us/sample - loss: 0.8827 - accuracy: 0.8367\n",
            "Epoch 113/150\n",
            "15462/15462 [==============================] - 7s 448us/sample - loss: 0.8905 - accuracy: 0.8341\n",
            "Epoch 114/150\n",
            "15462/15462 [==============================] - 7s 448us/sample - loss: 0.9188 - accuracy: 0.8269\n",
            "Epoch 115/150\n",
            "15462/15462 [==============================] - 7s 452us/sample - loss: 0.8951 - accuracy: 0.8347\n",
            "Epoch 116/150\n",
            "15462/15462 [==============================] - 7s 447us/sample - loss: 0.8936 - accuracy: 0.8348\n",
            "Epoch 117/150\n",
            "15462/15462 [==============================] - 7s 448us/sample - loss: 0.8921 - accuracy: 0.8345\n",
            "Epoch 118/150\n",
            "15462/15462 [==============================] - 7s 453us/sample - loss: 0.9151 - accuracy: 0.8282\n",
            "Epoch 119/150\n",
            "15462/15462 [==============================] - 7s 452us/sample - loss: 0.8739 - accuracy: 0.8371\n",
            "Epoch 120/150\n",
            "15462/15462 [==============================] - 7s 450us/sample - loss: 0.8549 - accuracy: 0.8413\n",
            "Epoch 121/150\n",
            "15462/15462 [==============================] - 7s 451us/sample - loss: 0.8661 - accuracy: 0.8375\n",
            "Epoch 122/150\n",
            "15462/15462 [==============================] - 7s 448us/sample - loss: 0.8710 - accuracy: 0.8340\n",
            "Epoch 123/150\n",
            "15462/15462 [==============================] - 7s 454us/sample - loss: 0.8630 - accuracy: 0.8373\n",
            "Epoch 124/150\n",
            "15462/15462 [==============================] - 7s 450us/sample - loss: 0.8657 - accuracy: 0.8353\n",
            "Epoch 125/150\n",
            "15462/15462 [==============================] - 7s 448us/sample - loss: 0.8672 - accuracy: 0.8350\n",
            "Epoch 126/150\n",
            "15462/15462 [==============================] - 7s 447us/sample - loss: 0.8690 - accuracy: 0.8330\n",
            "Epoch 127/150\n",
            "15462/15462 [==============================] - 7s 447us/sample - loss: 0.8811 - accuracy: 0.8335\n",
            "Epoch 128/150\n",
            "15462/15462 [==============================] - 7s 470us/sample - loss: 0.8477 - accuracy: 0.8379\n",
            "Epoch 129/150\n",
            "15462/15462 [==============================] - 7s 453us/sample - loss: 0.8473 - accuracy: 0.8351\n",
            "Epoch 130/150\n",
            "15462/15462 [==============================] - 7s 455us/sample - loss: 0.8461 - accuracy: 0.8360\n",
            "Epoch 131/150\n",
            "15462/15462 [==============================] - 7s 449us/sample - loss: 0.8340 - accuracy: 0.8413\n",
            "Epoch 132/150\n",
            "15462/15462 [==============================] - 7s 450us/sample - loss: 0.8373 - accuracy: 0.8397\n",
            "Epoch 133/150\n",
            "15462/15462 [==============================] - 7s 449us/sample - loss: 0.8398 - accuracy: 0.8371\n",
            "Epoch 134/150\n",
            "15462/15462 [==============================] - 7s 452us/sample - loss: 0.8370 - accuracy: 0.8368\n",
            "Epoch 135/150\n",
            "15462/15462 [==============================] - 7s 446us/sample - loss: 0.8264 - accuracy: 0.8426\n",
            "Epoch 136/150\n",
            "15462/15462 [==============================] - 7s 451us/sample - loss: 0.8322 - accuracy: 0.8392\n",
            "Epoch 137/150\n",
            "15462/15462 [==============================] - 7s 450us/sample - loss: 0.8390 - accuracy: 0.8356\n",
            "Epoch 138/150\n",
            "15462/15462 [==============================] - 7s 448us/sample - loss: 0.8559 - accuracy: 0.8324\n",
            "Epoch 139/150\n",
            "15462/15462 [==============================] - 7s 450us/sample - loss: 0.8382 - accuracy: 0.8377\n",
            "Epoch 140/150\n",
            "15462/15462 [==============================] - 7s 446us/sample - loss: 0.8234 - accuracy: 0.8386\n",
            "Epoch 141/150\n",
            "15462/15462 [==============================] - 7s 455us/sample - loss: 0.8308 - accuracy: 0.8367\n",
            "Epoch 142/150\n",
            "15462/15462 [==============================] - 7s 452us/sample - loss: 0.8150 - accuracy: 0.8401\n",
            "Epoch 143/150\n",
            "15462/15462 [==============================] - 7s 446us/sample - loss: 0.8072 - accuracy: 0.8401\n",
            "Epoch 144/150\n",
            "15462/15462 [==============================] - 7s 444us/sample - loss: 0.8267 - accuracy: 0.8364\n",
            "Epoch 145/150\n",
            "15462/15462 [==============================] - 7s 450us/sample - loss: 0.8255 - accuracy: 0.8355\n",
            "Epoch 146/150\n",
            "15462/15462 [==============================] - 7s 449us/sample - loss: 0.8414 - accuracy: 0.8346\n",
            "Epoch 147/150\n",
            "15462/15462 [==============================] - 7s 447us/sample - loss: 0.8129 - accuracy: 0.8386\n",
            "Epoch 148/150\n",
            "15462/15462 [==============================] - 7s 447us/sample - loss: 0.8033 - accuracy: 0.8404\n",
            "Epoch 149/150\n",
            "15462/15462 [==============================] - 7s 475us/sample - loss: 0.8150 - accuracy: 0.8393\n",
            "Epoch 150/150\n",
            "15462/15462 [==============================] - 7s 465us/sample - loss: 0.8138 - accuracy: 0.8393\n"
          ],
          "name": "stdout"
        }
      ]
    },
    {
      "cell_type": "markdown",
      "metadata": {
        "id": "I9ofmb_EyckC"
      },
      "source": [
        "#### 7.0 Ploting the performance of the model.\n",
        "<hr/>\n",
        "\n",
        "Here we are going to plot 2 graphs ***accuracy vs epochs*** and ***loss vs epochs*** ."
      ]
    },
    {
      "cell_type": "code",
      "metadata": {
        "id": "iwJNFGlMresc",
        "outputId": "b495b447-b0db-42d8-bd62-7487440dfc10",
        "colab": {
          "base_uri": "https://localhost:8080/",
          "height": 545
        }
      },
      "source": [
        "import matplotlib.pyplot as plt\n",
        "acc = history.history['accuracy']\n",
        "loss = history.history['loss']\n",
        "\n",
        "epochs = range(len(acc))\n",
        "\n",
        "plt.plot(epochs, acc, 'b', label='Training accuracy')\n",
        "plt.title('Training accuracy')\n",
        "\n",
        "plt.figure()\n",
        "plt.savefig('/content/accuracy_plot.png')\n",
        "\n",
        "plt.plot(epochs, loss, 'b', label='Training Loss')\n",
        "plt.title('Training loss')\n",
        "plt.legend()\n",
        "plt.savefig('/content/loss_plot.png')\n",
        "\n",
        "plt.show()"
      ],
      "execution_count": 53,
      "outputs": [
        {
          "output_type": "display_data",
          "data": {
            "image/png": "[encoded data removed]",
            "text/plain": [
              "<Figure size 432x288 with 1 Axes>"
            ]
          },
          "metadata": {
            "tags": [],
            "needs_background": "light"
          }
        },
        {
          "output_type": "display_data",
          "data": {
            "image/png": "[encoded data removed]",
            "text/plain": [
              "<Figure size 432x288 with 1 Axes>"
            ]
          },
          "metadata": {
            "tags": [],
            "needs_background": "light"
          }
        }
      ]
    },
    {
      "cell_type": "code",
      "metadata": {
        "id": "3imoT23H1wv5"
      },
      "source": [
        ""
      ],
      "execution_count": null,
      "outputs": []
    }
  ]
}