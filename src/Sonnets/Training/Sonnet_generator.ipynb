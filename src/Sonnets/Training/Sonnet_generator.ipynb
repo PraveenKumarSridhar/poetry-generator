{
 "cells": [
  {
   "source": [
    "## Can we write a Sonnet like its the middle ages?"
   ],
   "cell_type": "markdown",
   "metadata": {}
  },
  {
   "source": [
    "![sonnet](Sonnet_art.jpg)"
   ],
   "cell_type": "markdown",
   "metadata": {}
  },
  {
   "source": [
    "### Loading the data\n",
    "Let's start with loading the actual data and seeing a small sample of it, say the first 300 characters."
   ],
   "cell_type": "markdown",
   "metadata": {}
  },
  {
   "source": [
    "data = open('E:\\CODE\\github-repos\\poetry-generator\\src\\Sonnets\\data\\sonnets.txt').read()\n",
    "data[0:300]"
   ],
   "cell_type": "code",
   "metadata": {},
   "execution_count": 17,
   "outputs": [
    {
     "output_type": "execute_result",
     "data": {
      "text/plain": "\"FROM fairest creatures we desire increase,\\nThat thereby beauty's rose might never die,\\nBut as the riper should by time decease,\\nHis tender heir might bear his memory:\\nBut thou, contracted to thine own bright eyes,\\nFeed'st thy light'st flame with self-substantial fuel,\\nMaking a famine where abundance\""
     },
     "metadata": {},
     "execution_count": 17
    }
   ]
  },
  {
   "source": [],
   "cell_type": "markdown",
   "metadata": {}
  }
 ],
 "metadata": {
  "language_info": {
   "codemirror_mode": {
    "name": "ipython",
    "version": 3
   },
   "file_extension": ".py",
   "mimetype": "text/x-python",
   "name": "python",
   "nbconvert_exporter": "python",
   "pygments_lexer": "ipython3",
   "version": "3.7.7-final"
  },
  "orig_nbformat": 2,
  "kernelspec": {
   "name": "python37764bitnlptensorflowcondae601bd9b5aaa464081a20171d131019a",
   "display_name": "Python 3.7.7 64-bit ('nlp_tensorflow': conda)"
  }
 },
 "nbformat": 4,
 "nbformat_minor": 2
}